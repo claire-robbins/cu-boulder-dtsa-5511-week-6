{
 "cells": [
  {
   "cell_type": "markdown",
   "id": "df6710c3",
   "metadata": {},
   "source": [
    "# Dog vs Cat Classification"
   ]
  },
  {
   "cell_type": "markdown",
   "id": "af9651c0",
   "metadata": {},
   "source": [
    "## Introduction"
   ]
  },
  {
   "cell_type": "markdown",
   "id": "09658e3e",
   "metadata": {},
   "source": [
    "Kaggle competition: https://www.kaggle.com/competitions/dog-vs-cat-classification/"
   ]
  },
  {
   "cell_type": "markdown",
   "id": "c177718e",
   "metadata": {},
   "source": [
    "In this competition, the competitor is tasked with writing a script to classify whether an image contains a dog or a cat. I have chosen to approach this challenge using a CNN, which is a reliable deep learning algorithm used for image classification. "
   ]
  },
  {
   "cell_type": "markdown",
   "id": "52b72369",
   "metadata": {},
   "source": [
    "## Setup"
   ]
  },
  {
   "cell_type": "code",
   "execution_count": 1,
   "id": "3915d6aa",
   "metadata": {},
   "outputs": [],
   "source": [
    "import numpy as np\n",
    "import pandas as pd\n",
    "import matplotlib.pyplot as plt\n",
    "import math\n",
    "from keras.models import Sequential\n",
    "from keras.layers import Dense, Dropout, Flatten, BatchNormalization, Activation, Conv2D, MaxPooling2D, MaxPool2D\n",
    "from sklearn.model_selection import train_test_split\n",
    "from tensorflow.keras.utils import plot_model\n",
    "from glob import glob\n",
    "from PIL import Image\n",
    "import os"
   ]
  },
  {
   "cell_type": "code",
   "execution_count": 2,
   "id": "669f4e20",
   "metadata": {},
   "outputs": [],
   "source": [
    "path = \"/Users/clairerobbins/Documents/MS-DS CU Boulder/Introduction to Deep Learning/Final Project/dog-vs-cat-classification/\" \n",
    "cat_path = path + 'train/cats'\n",
    "dog_path = path + 'train/dogs'\n",
    "test_path = path + 'test/test'"
   ]
  },
  {
   "cell_type": "markdown",
   "id": "c6d0ff56",
   "metadata": {},
   "source": [
    "## Data Preprocessing & EDA"
   ]
  },
  {
   "cell_type": "code",
   "execution_count": 3,
   "id": "780bea7a",
   "metadata": {},
   "outputs": [
    {
     "data": {
      "text/html": [
       "<div>\n",
       "<style scoped>\n",
       "    .dataframe tbody tr th:only-of-type {\n",
       "        vertical-align: middle;\n",
       "    }\n",
       "\n",
       "    .dataframe tbody tr th {\n",
       "        vertical-align: top;\n",
       "    }\n",
       "\n",
       "    .dataframe thead th {\n",
       "        text-align: right;\n",
       "    }\n",
       "</style>\n",
       "<table border=\"1\" class=\"dataframe\">\n",
       "  <thead>\n",
       "    <tr style=\"text-align: right;\">\n",
       "      <th></th>\n",
       "      <th>path</th>\n",
       "      <th>id</th>\n",
       "      <th>label</th>\n",
       "    </tr>\n",
       "  </thead>\n",
       "  <tbody>\n",
       "    <tr>\n",
       "      <th>0</th>\n",
       "      <td>/Users/clairerobbins/Documents/MS-DS CU Boulde...</td>\n",
       "      <td>cat.5077.jpg</td>\n",
       "      <td>0</td>\n",
       "    </tr>\n",
       "    <tr>\n",
       "      <th>1</th>\n",
       "      <td>/Users/clairerobbins/Documents/MS-DS CU Boulde...</td>\n",
       "      <td>cat.2718.jpg</td>\n",
       "      <td>0</td>\n",
       "    </tr>\n",
       "    <tr>\n",
       "      <th>2</th>\n",
       "      <td>/Users/clairerobbins/Documents/MS-DS CU Boulde...</td>\n",
       "      <td>cat.10151.jpg</td>\n",
       "      <td>0</td>\n",
       "    </tr>\n",
       "    <tr>\n",
       "      <th>3</th>\n",
       "      <td>/Users/clairerobbins/Documents/MS-DS CU Boulde...</td>\n",
       "      <td>cat.3406.jpg</td>\n",
       "      <td>0</td>\n",
       "    </tr>\n",
       "    <tr>\n",
       "      <th>4</th>\n",
       "      <td>/Users/clairerobbins/Documents/MS-DS CU Boulde...</td>\n",
       "      <td>cat.4369.jpg</td>\n",
       "      <td>0</td>\n",
       "    </tr>\n",
       "  </tbody>\n",
       "</table>\n",
       "</div>"
      ],
      "text/plain": [
       "                                                path             id  label\n",
       "0  /Users/clairerobbins/Documents/MS-DS CU Boulde...   cat.5077.jpg      0\n",
       "1  /Users/clairerobbins/Documents/MS-DS CU Boulde...   cat.2718.jpg      0\n",
       "2  /Users/clairerobbins/Documents/MS-DS CU Boulde...  cat.10151.jpg      0\n",
       "3  /Users/clairerobbins/Documents/MS-DS CU Boulde...   cat.3406.jpg      0\n",
       "4  /Users/clairerobbins/Documents/MS-DS CU Boulde...   cat.4369.jpg      0"
      ]
     },
     "execution_count": 3,
     "metadata": {},
     "output_type": "execute_result"
    }
   ],
   "source": [
    "cats = pd.DataFrame({'path': glob(os.path.join(cat_path,'*.jpg'))})\n",
    "cats['id'] = [os.path.basename(i) for i in cats['path']]\n",
    "cat_labels = [0 for i in range(len(cats))]\n",
    "cats['label'] = cat_labels\n",
    "cats.head(5)"
   ]
  },
  {
   "cell_type": "code",
   "execution_count": 4,
   "id": "13817b29",
   "metadata": {},
   "outputs": [
    {
     "data": {
      "text/html": [
       "<div>\n",
       "<style scoped>\n",
       "    .dataframe tbody tr th:only-of-type {\n",
       "        vertical-align: middle;\n",
       "    }\n",
       "\n",
       "    .dataframe tbody tr th {\n",
       "        vertical-align: top;\n",
       "    }\n",
       "\n",
       "    .dataframe thead th {\n",
       "        text-align: right;\n",
       "    }\n",
       "</style>\n",
       "<table border=\"1\" class=\"dataframe\">\n",
       "  <thead>\n",
       "    <tr style=\"text-align: right;\">\n",
       "      <th></th>\n",
       "      <th>path</th>\n",
       "      <th>id</th>\n",
       "      <th>label</th>\n",
       "    </tr>\n",
       "  </thead>\n",
       "  <tbody>\n",
       "    <tr>\n",
       "      <th>0</th>\n",
       "      <td>/Users/clairerobbins/Documents/MS-DS CU Boulde...</td>\n",
       "      <td>dog.8011.jpg</td>\n",
       "      <td>1</td>\n",
       "    </tr>\n",
       "    <tr>\n",
       "      <th>1</th>\n",
       "      <td>/Users/clairerobbins/Documents/MS-DS CU Boulde...</td>\n",
       "      <td>dog.7322.jpg</td>\n",
       "      <td>1</td>\n",
       "    </tr>\n",
       "    <tr>\n",
       "      <th>2</th>\n",
       "      <td>/Users/clairerobbins/Documents/MS-DS CU Boulde...</td>\n",
       "      <td>dog.1753.jpg</td>\n",
       "      <td>1</td>\n",
       "    </tr>\n",
       "    <tr>\n",
       "      <th>3</th>\n",
       "      <td>/Users/clairerobbins/Documents/MS-DS CU Boulde...</td>\n",
       "      <td>dog.5535.jpg</td>\n",
       "      <td>1</td>\n",
       "    </tr>\n",
       "    <tr>\n",
       "      <th>4</th>\n",
       "      <td>/Users/clairerobbins/Documents/MS-DS CU Boulde...</td>\n",
       "      <td>dog.3144.jpg</td>\n",
       "      <td>1</td>\n",
       "    </tr>\n",
       "  </tbody>\n",
       "</table>\n",
       "</div>"
      ],
      "text/plain": [
       "                                                path            id  label\n",
       "0  /Users/clairerobbins/Documents/MS-DS CU Boulde...  dog.8011.jpg      1\n",
       "1  /Users/clairerobbins/Documents/MS-DS CU Boulde...  dog.7322.jpg      1\n",
       "2  /Users/clairerobbins/Documents/MS-DS CU Boulde...  dog.1753.jpg      1\n",
       "3  /Users/clairerobbins/Documents/MS-DS CU Boulde...  dog.5535.jpg      1\n",
       "4  /Users/clairerobbins/Documents/MS-DS CU Boulde...  dog.3144.jpg      1"
      ]
     },
     "execution_count": 4,
     "metadata": {},
     "output_type": "execute_result"
    }
   ],
   "source": [
    "dogs = pd.DataFrame({'path': glob(os.path.join(dog_path,'*.jpg'))})\n",
    "dogs['id'] = [os.path.basename(i) for i in dogs['path']]\n",
    "dog_labels = [1 for i in range(len(dogs))]\n",
    "dogs['label'] = dog_labels\n",
    "dogs.head(5)"
   ]
  },
  {
   "cell_type": "code",
   "execution_count": 5,
   "id": "e46b8d2e",
   "metadata": {},
   "outputs": [
    {
     "data": {
      "text/html": [
       "<div>\n",
       "<style scoped>\n",
       "    .dataframe tbody tr th:only-of-type {\n",
       "        vertical-align: middle;\n",
       "    }\n",
       "\n",
       "    .dataframe tbody tr th {\n",
       "        vertical-align: top;\n",
       "    }\n",
       "\n",
       "    .dataframe thead th {\n",
       "        text-align: right;\n",
       "    }\n",
       "</style>\n",
       "<table border=\"1\" class=\"dataframe\">\n",
       "  <thead>\n",
       "    <tr style=\"text-align: right;\">\n",
       "      <th></th>\n",
       "      <th>path</th>\n",
       "      <th>id</th>\n",
       "      <th>label</th>\n",
       "    </tr>\n",
       "  </thead>\n",
       "  <tbody>\n",
       "    <tr>\n",
       "      <th>0</th>\n",
       "      <td>/Users/clairerobbins/Documents/MS-DS CU Boulde...</td>\n",
       "      <td>cat.5077.jpg</td>\n",
       "      <td>0</td>\n",
       "    </tr>\n",
       "    <tr>\n",
       "      <th>1</th>\n",
       "      <td>/Users/clairerobbins/Documents/MS-DS CU Boulde...</td>\n",
       "      <td>cat.2718.jpg</td>\n",
       "      <td>0</td>\n",
       "    </tr>\n",
       "    <tr>\n",
       "      <th>2</th>\n",
       "      <td>/Users/clairerobbins/Documents/MS-DS CU Boulde...</td>\n",
       "      <td>cat.10151.jpg</td>\n",
       "      <td>0</td>\n",
       "    </tr>\n",
       "    <tr>\n",
       "      <th>3</th>\n",
       "      <td>/Users/clairerobbins/Documents/MS-DS CU Boulde...</td>\n",
       "      <td>cat.3406.jpg</td>\n",
       "      <td>0</td>\n",
       "    </tr>\n",
       "    <tr>\n",
       "      <th>4</th>\n",
       "      <td>/Users/clairerobbins/Documents/MS-DS CU Boulde...</td>\n",
       "      <td>cat.4369.jpg</td>\n",
       "      <td>0</td>\n",
       "    </tr>\n",
       "  </tbody>\n",
       "</table>\n",
       "</div>"
      ],
      "text/plain": [
       "                                                path             id  label\n",
       "0  /Users/clairerobbins/Documents/MS-DS CU Boulde...   cat.5077.jpg      0\n",
       "1  /Users/clairerobbins/Documents/MS-DS CU Boulde...   cat.2718.jpg      0\n",
       "2  /Users/clairerobbins/Documents/MS-DS CU Boulde...  cat.10151.jpg      0\n",
       "3  /Users/clairerobbins/Documents/MS-DS CU Boulde...   cat.3406.jpg      0\n",
       "4  /Users/clairerobbins/Documents/MS-DS CU Boulde...   cat.4369.jpg      0"
      ]
     },
     "execution_count": 5,
     "metadata": {},
     "output_type": "execute_result"
    }
   ],
   "source": [
    "dfs = [cats, dogs]\n",
    "train = pd.concat(dfs)\n",
    "train.head(5)"
   ]
  },
  {
   "cell_type": "code",
   "execution_count": 6,
   "id": "4d2543b6",
   "metadata": {},
   "outputs": [
    {
     "data": {
      "image/png": "[encoded data removed]",
      "text/plain": [
       "<Figure size 600x600 with 1 Axes>"
      ]
     },
     "metadata": {},
     "output_type": "display_data"
    }
   ],
   "source": [
    "train['label'].value_counts().plot(figsize=(6,6),kind='pie',autopct='%.2f%%')\n",
    "plt.title('Train Label Distribution')\n",
    "plt.show()"
   ]
  },
  {
   "cell_type": "code",
   "execution_count": 7,
   "id": "5a02ca86",
   "metadata": {},
   "outputs": [
    {
     "data": {
      "text/html": [
       "<div>\n",
       "<style scoped>\n",
       "    .dataframe tbody tr th:only-of-type {\n",
       "        vertical-align: middle;\n",
       "    }\n",
       "\n",
       "    .dataframe tbody tr th {\n",
       "        vertical-align: top;\n",
       "    }\n",
       "\n",
       "    .dataframe thead th {\n",
       "        text-align: right;\n",
       "    }\n",
       "</style>\n",
       "<table border=\"1\" class=\"dataframe\">\n",
       "  <thead>\n",
       "    <tr style=\"text-align: right;\">\n",
       "      <th></th>\n",
       "      <th>path</th>\n",
       "      <th>id</th>\n",
       "      <th>label</th>\n",
       "    </tr>\n",
       "  </thead>\n",
       "  <tbody>\n",
       "    <tr>\n",
       "      <th>0</th>\n",
       "      <td>/Users/clairerobbins/Documents/MS-DS CU Boulde...</td>\n",
       "      <td>003301.jpg</td>\n",
       "      <td>None</td>\n",
       "    </tr>\n",
       "    <tr>\n",
       "      <th>1</th>\n",
       "      <td>/Users/clairerobbins/Documents/MS-DS CU Boulde...</td>\n",
       "      <td>005770.jpg</td>\n",
       "      <td>None</td>\n",
       "    </tr>\n",
       "    <tr>\n",
       "      <th>2</th>\n",
       "      <td>/Users/clairerobbins/Documents/MS-DS CU Boulde...</td>\n",
       "      <td>001516.jpg</td>\n",
       "      <td>None</td>\n",
       "    </tr>\n",
       "    <tr>\n",
       "      <th>3</th>\n",
       "      <td>/Users/clairerobbins/Documents/MS-DS CU Boulde...</td>\n",
       "      <td>006279.jpg</td>\n",
       "      <td>None</td>\n",
       "    </tr>\n",
       "    <tr>\n",
       "      <th>4</th>\n",
       "      <td>/Users/clairerobbins/Documents/MS-DS CU Boulde...</td>\n",
       "      <td>007167.jpg</td>\n",
       "      <td>None</td>\n",
       "    </tr>\n",
       "    <tr>\n",
       "      <th>...</th>\n",
       "      <td>...</td>\n",
       "      <td>...</td>\n",
       "      <td>...</td>\n",
       "    </tr>\n",
       "    <tr>\n",
       "      <th>7995</th>\n",
       "      <td>/Users/clairerobbins/Documents/MS-DS CU Boulde...</td>\n",
       "      <td>006260.jpg</td>\n",
       "      <td>None</td>\n",
       "    </tr>\n",
       "    <tr>\n",
       "      <th>7996</th>\n",
       "      <td>/Users/clairerobbins/Documents/MS-DS CU Boulde...</td>\n",
       "      <td>005769.jpg</td>\n",
       "      <td>None</td>\n",
       "    </tr>\n",
       "    <tr>\n",
       "      <th>7997</th>\n",
       "      <td>/Users/clairerobbins/Documents/MS-DS CU Boulde...</td>\n",
       "      <td>002006.jpg</td>\n",
       "      <td>None</td>\n",
       "    </tr>\n",
       "    <tr>\n",
       "      <th>7998</th>\n",
       "      <td>/Users/clairerobbins/Documents/MS-DS CU Boulde...</td>\n",
       "      <td>003318.jpg</td>\n",
       "      <td>None</td>\n",
       "    </tr>\n",
       "    <tr>\n",
       "      <th>7999</th>\n",
       "      <td>/Users/clairerobbins/Documents/MS-DS CU Boulde...</td>\n",
       "      <td>004477.jpg</td>\n",
       "      <td>None</td>\n",
       "    </tr>\n",
       "  </tbody>\n",
       "</table>\n",
       "<p>8000 rows × 3 columns</p>\n",
       "</div>"
      ],
      "text/plain": [
       "                                                   path          id label\n",
       "0     /Users/clairerobbins/Documents/MS-DS CU Boulde...  003301.jpg  None\n",
       "1     /Users/clairerobbins/Documents/MS-DS CU Boulde...  005770.jpg  None\n",
       "2     /Users/clairerobbins/Documents/MS-DS CU Boulde...  001516.jpg  None\n",
       "3     /Users/clairerobbins/Documents/MS-DS CU Boulde...  006279.jpg  None\n",
       "4     /Users/clairerobbins/Documents/MS-DS CU Boulde...  007167.jpg  None\n",
       "...                                                 ...         ...   ...\n",
       "7995  /Users/clairerobbins/Documents/MS-DS CU Boulde...  006260.jpg  None\n",
       "7996  /Users/clairerobbins/Documents/MS-DS CU Boulde...  005769.jpg  None\n",
       "7997  /Users/clairerobbins/Documents/MS-DS CU Boulde...  002006.jpg  None\n",
       "7998  /Users/clairerobbins/Documents/MS-DS CU Boulde...  003318.jpg  None\n",
       "7999  /Users/clairerobbins/Documents/MS-DS CU Boulde...  004477.jpg  None\n",
       "\n",
       "[8000 rows x 3 columns]"
      ]
     },
     "execution_count": 7,
     "metadata": {},
     "output_type": "execute_result"
    }
   ],
   "source": [
    "test = pd.DataFrame({'path': glob(os.path.join(test_path,'*.jpg'))})\n",
    "test['id'] = [os.path.basename(i) for i in test['path']]\n",
    "test['label'] = [None for i in range(len(test))]\n",
    "test"
   ]
  },
  {
   "cell_type": "code",
   "execution_count": 8,
   "id": "e6baccbc",
   "metadata": {},
   "outputs": [],
   "source": [
    "train, validate = train_test_split(train, test_size=0.2)"
   ]
  },
  {
   "cell_type": "code",
   "execution_count": 9,
   "id": "2ffc15d6",
   "metadata": {},
   "outputs": [],
   "source": [
    "def clean_files(df):\n",
    "    raw_data = []\n",
    "    labels = []\n",
    "    count = 0\n",
    "    for index,row in df.iterrows():\n",
    "        img = Image.open(row['path'])\n",
    "        img = img.resize((224, 224), Image.ANTIALIAS)  # Resizing\n",
    "        raw_data.append(img)\n",
    "        labels.append(row['label'])\n",
    "        count+=1\n",
    "    return raw_data, labels"
   ]
  },
  {
   "cell_type": "code",
   "execution_count": 10,
   "id": "2caf5df1",
   "metadata": {},
   "outputs": [
    {
     "name": "stderr",
     "output_type": "stream",
     "text": [
      "/var/folders/5c/fd850vrj48v7jb6xpw9dy4v00000gn/T/ipykernel_3293/1186364363.py:7: DeprecationWarning: ANTIALIAS is deprecated and will be removed in Pillow 10 (2023-07-01). Use LANCZOS or Resampling.LANCZOS instead.\n",
      "  img = img.resize((224, 224), Image.ANTIALIAS)  # Resizing\n"
     ]
    }
   ],
   "source": [
    "train_raw, train_labels = clean_files(train)\n",
    "validate_raw, validate_labels = clean_files(validate)\n",
    "test_raw, test_labels = clean_files(test)"
   ]
  },
  {
   "cell_type": "code",
   "execution_count": 11,
   "id": "9f5767f1",
   "metadata": {},
   "outputs": [],
   "source": [
    "train_raw2 = []\n",
    "for i in train_raw:\n",
    "    train_raw2.append(np.array(i))\n",
    "\n",
    "validate_raw2 = []\n",
    "for i in validate_raw:\n",
    "    validate_raw2.append(np.array(i))\n",
    "    \n",
    "test_raw2 = []\n",
    "for i in test_raw:\n",
    "    test_raw2.append(np.array(i))"
   ]
  },
  {
   "cell_type": "markdown",
   "id": "6b532246",
   "metadata": {},
   "source": [
    "## Model Building & Training"
   ]
  },
  {
   "cell_type": "markdown",
   "id": "75d9e269",
   "metadata": {},
   "source": [
    "I built my model with the following specs:\n",
    "\n",
    "- kernel size = (3, 3): a very average kernel size to capture a medium amount of detail\n",
    "- pool size = (2, 2): a normal pool size to start with\n",
    "- 3 layers + dense layer\n",
    "- relu activation: mitigate vanishing gradient, common activation function\n",
    "- binary crossentropy activation function: standard choice for binary classification\n",
    "- adam optimizer: adaptive optimizer, typically best optimizer to start with"
   ]
  },
  {
   "cell_type": "code",
   "execution_count": 12,
   "id": "e728584d",
   "metadata": {
    "scrolled": true
   },
   "outputs": [
    {
     "name": "stdout",
     "output_type": "stream",
     "text": [
      "Model: \"sequential\"\n",
      "_________________________________________________________________\n",
      " Layer (type)                Output Shape              Param #   \n",
      "=================================================================\n",
      " conv2d (Conv2D)             (None, 222, 222, 16)      448       \n",
      "                                                                 \n",
      " batch_normalization (Batch  (None, 222, 222, 16)      64        \n",
      " Normalization)                                                  \n",
      "                                                                 \n",
      " activation (Activation)     (None, 222, 222, 16)      0         \n",
      "                                                                 \n",
      " max_pooling2d (MaxPooling2  (None, 111, 111, 16)      0         \n",
      " D)                                                              \n",
      "                                                                 \n",
      " dropout (Dropout)           (None, 111, 111, 16)      0         \n",
      "                                                                 \n",
      " conv2d_1 (Conv2D)           (None, 109, 109, 32)      4640      \n",
      "                                                                 \n",
      " batch_normalization_1 (Bat  (None, 109, 109, 32)      128       \n",
      " chNormalization)                                                \n",
      "                                                                 \n",
      " activation_1 (Activation)   (None, 109, 109, 32)      0         \n",
      "                                                                 \n",
      " max_pooling2d_1 (MaxPoolin  (None, 54, 54, 32)        0         \n",
      " g2D)                                                            \n",
      "                                                                 \n",
      " dropout_1 (Dropout)         (None, 54, 54, 32)        0         \n",
      "                                                                 \n",
      " conv2d_2 (Conv2D)           (None, 52, 52, 64)        18496     \n",
      "                                                                 \n",
      " batch_normalization_2 (Bat  (None, 52, 52, 64)        256       \n",
      " chNormalization)                                                \n",
      "                                                                 \n",
      " activation_2 (Activation)   (None, 52, 52, 64)        0         \n",
      "                                                                 \n",
      " max_pooling2d_2 (MaxPoolin  (None, 26, 26, 64)        0         \n",
      " g2D)                                                            \n",
      "                                                                 \n",
      " dropout_2 (Dropout)         (None, 26, 26, 64)        0         \n",
      "                                                                 \n",
      " flatten (Flatten)           (None, 43264)             0         \n",
      "                                                                 \n",
      " dense (Dense)               (None, 128)               5537920   \n",
      "                                                                 \n",
      " batch_normalization_3 (Bat  (None, 128)               512       \n",
      " chNormalization)                                                \n",
      "                                                                 \n",
      " activation_3 (Activation)   (None, 128)               0         \n",
      "                                                                 \n",
      " dropout_3 (Dropout)         (None, 128)               0         \n",
      "                                                                 \n",
      " dense_1 (Dense)             (None, 1)                 129       \n",
      "                                                                 \n",
      "=================================================================\n",
      "Total params: 5562593 (21.22 MB)\n",
      "Trainable params: 5562113 (21.22 MB)\n",
      "Non-trainable params: 480 (1.88 KB)\n",
      "_________________________________________________________________\n"
     ]
    }
   ],
   "source": [
    "kernel_size = (3, 3)\n",
    "pool_size = (2, 2)\n",
    "first_filters = 16\n",
    "second_filters = 32\n",
    "third_filters = 64\n",
    "\n",
    "dropout_conv = 0.2\n",
    "dropout_dense = 0.4\n",
    "\n",
    "model = Sequential()\n",
    "\n",
    "# Conv layer 1\n",
    "model.add(Conv2D(first_filters, kernel_size, input_shape=(224, 224, 3)))\n",
    "model.add(BatchNormalization())\n",
    "model.add(Activation(\"relu\"))\n",
    "model.add(MaxPool2D(pool_size=pool_size))\n",
    "model.add(Dropout(dropout_conv))\n",
    "\n",
    "# Conv layer 2\n",
    "model.add(Conv2D(second_filters, kernel_size))\n",
    "model.add(BatchNormalization())\n",
    "model.add(Activation(\"relu\"))\n",
    "model.add(MaxPool2D(pool_size=pool_size))\n",
    "model.add(Dropout(dropout_conv))\n",
    "\n",
    "# Conv layer 3\n",
    "model.add(Conv2D(third_filters, kernel_size))\n",
    "model.add(BatchNormalization())\n",
    "model.add(Activation(\"relu\"))\n",
    "model.add(MaxPool2D(pool_size=pool_size))\n",
    "model.add(Dropout(dropout_conv))\n",
    "\n",
    "# Fully connected (dense) layer\n",
    "model.add(Flatten())\n",
    "model.add(Dense(128))\n",
    "model.add(BatchNormalization())\n",
    "model.add(Activation(\"relu\"))\n",
    "model.add(Dropout(dropout_dense))\n",
    "\n",
    "# Activation function\n",
    "model.add(Dense(1, activation=\"sigmoid\"))\n",
    "\n",
    "batch_size = 64\n",
    "model.compile(loss='binary_crossentropy',\n",
    "              optimizer='adam', \n",
    "              metrics=['accuracy'])\n",
    "model.summary()"
   ]
  },
  {
   "cell_type": "code",
   "execution_count": 13,
   "id": "d46d93da",
   "metadata": {},
   "outputs": [
    {
     "name": "stdout",
     "output_type": "stream",
     "text": [
      "Epoch 1/10\n",
      "625/625 [==============================] - 139s 221ms/step - loss: 0.5955 - accuracy: 0.6896 - val_loss: 0.5644 - val_accuracy: 0.7184\n",
      "Epoch 2/10\n",
      "625/625 [==============================] - 138s 221ms/step - loss: 0.4769 - accuracy: 0.7721 - val_loss: 0.4912 - val_accuracy: 0.7634\n",
      "Epoch 3/10\n",
      "625/625 [==============================] - 136s 217ms/step - loss: 0.4062 - accuracy: 0.8140 - val_loss: 0.8535 - val_accuracy: 0.6276\n",
      "Epoch 4/10\n",
      "625/625 [==============================] - 136s 218ms/step - loss: 0.3611 - accuracy: 0.8352 - val_loss: 0.4144 - val_accuracy: 0.8088\n",
      "Epoch 5/10\n",
      "625/625 [==============================] - 136s 218ms/step - loss: 0.3183 - accuracy: 0.8626 - val_loss: 0.4390 - val_accuracy: 0.8036\n",
      "Epoch 6/10\n",
      "625/625 [==============================] - 136s 217ms/step - loss: 0.2770 - accuracy: 0.8847 - val_loss: 0.5806 - val_accuracy: 0.7556\n",
      "Epoch 7/10\n",
      "625/625 [==============================] - 136s 217ms/step - loss: 0.2347 - accuracy: 0.9036 - val_loss: 0.6711 - val_accuracy: 0.7526\n",
      "Epoch 8/10\n",
      "625/625 [==============================] - 137s 218ms/step - loss: 0.1997 - accuracy: 0.9195 - val_loss: 0.5111 - val_accuracy: 0.8016\n",
      "Epoch 9/10\n",
      "625/625 [==============================] - 136s 218ms/step - loss: 0.1716 - accuracy: 0.9319 - val_loss: 0.4765 - val_accuracy: 0.8122\n",
      "Epoch 10/10\n",
      "625/625 [==============================] - 136s 218ms/step - loss: 0.1412 - accuracy: 0.9449 - val_loss: 0.4703 - val_accuracy: 0.8288\n"
     ]
    }
   ],
   "source": [
    "history = model.fit(np.array(train_raw2), np.array(train_labels), epochs=10,\n",
    "          validation_data=(np.array(validate_raw2), np.array(validate_labels)))"
   ]
  },
  {
   "cell_type": "code",
   "execution_count": 14,
   "id": "03ac6d70",
   "metadata": {},
   "outputs": [
    {
     "data": {
      "text/plain": [
       "<matplotlib.legend.Legend at 0x76c586950>"
      ]
     },
     "execution_count": 14,
     "metadata": {},
     "output_type": "execute_result"
    },
    {
     "data": {
      "image/png": "[encoded data removed]",
      "text/plain": [
       "<Figure size 640x480 with 1 Axes>"
      ]
     },
     "metadata": {},
     "output_type": "display_data"
    }
   ],
   "source": [
    "plt.plot(history.history['accuracy'], label='accuracy')\n",
    "plt.plot(history.history['val_accuracy'], label = 'val_accuracy')\n",
    "plt.xlabel('Epoch')\n",
    "plt.ylabel('Accuracy')\n",
    "plt.legend(loc='lower right')"
   ]
  },
  {
   "cell_type": "code",
   "execution_count": 15,
   "id": "4864065d",
   "metadata": {},
   "outputs": [
    {
     "data": {
      "image/png": "[encoded data removed]",
      "text/plain": [
       "<Figure size 640x480 with 1 Axes>"
      ]
     },
     "metadata": {},
     "output_type": "display_data"
    }
   ],
   "source": [
    "plt.plot(history.history['loss'], label='loss')\n",
    "plt.plot(history.history['val_loss'], label = 'val_loss')\n",
    "plt.xlabel('Epoch')\n",
    "plt.ylabel('Loss')\n",
    "plt.ylim([0.0, 1])\n",
    "plt.legend(loc='upper right');"
   ]
  },
  {
   "cell_type": "code",
   "execution_count": 16,
   "id": "a4491865",
   "metadata": {},
   "outputs": [
    {
     "name": "stdout",
     "output_type": "stream",
     "text": [
      "250/250 [==============================] - 13s 51ms/step\n"
     ]
    }
   ],
   "source": [
    "predictions = model.predict(np.array(test_raw2))"
   ]
  },
  {
   "cell_type": "code",
   "execution_count": 17,
   "id": "4670181b",
   "metadata": {},
   "outputs": [],
   "source": [
    "# convert prediction percentages to binary classification\n",
    "final_predictions = []\n",
    "for i in predictions:\n",
    "    if i > 0.5:\n",
    "        final_predictions.append(1)\n",
    "    else:\n",
    "        final_predictions.append(0)"
   ]
  },
  {
   "cell_type": "code",
   "execution_count": 18,
   "id": "aab8d683",
   "metadata": {},
   "outputs": [],
   "source": [
    "# generate submission file\n",
    "submission = pd.DataFrame({'id': test['id'], 'label': final_predictions})\n",
    "submission.set_index('id')\n",
    "submission.to_csv('submission.csv')"
   ]
  },
  {
   "cell_type": "markdown",
   "id": "64fff503",
   "metadata": {},
   "source": [
    "## Conclusion"
   ]
  },
  {
   "cell_type": "markdown",
   "id": "f1b603ba",
   "metadata": {},
   "source": [
    "Despite the questionable validation accuracy and loss, my model performed quite well on the test data with 93% accuracy! After much trial and error, I landed on a model that is quite standard and not very fine-tuned, as I found it performed the best. I struggled to minimize my validation loss, something that I will continue to research and learn."
   ]
  }
 ],
 "metadata": {
  "kernelspec": {
   "display_name": "Python 3 (ipykernel)",
   "language": "python",
   "name": "python3"
  },
  "language_info": {
   "codemirror_mode": {
    "name": "ipython",
    "version": 3
   },
   "file_extension": ".py",
   "mimetype": "text/x-python",
   "name": "python",
   "nbconvert_exporter": "python",
   "pygments_lexer": "ipython3",
   "version": "3.11.3"
  }
 },
 "nbformat": 4,
 "nbformat_minor": 5
}
